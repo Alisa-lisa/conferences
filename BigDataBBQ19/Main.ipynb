{
 "cells": [
  {
   "cell_type": "code",
   "execution_count": 1,
   "metadata": {
    "slideshow": {
     "slide_type": "skip"
    }
   },
   "outputs": [],
   "source": [
    "import pandas as pd\n",
    "import numpy as np\n",
    "import matplotlib\n",
    "import sklearn\n",
    "import featuretools as ft\n",
    "import io\n",
    "import requests\n",
    "from sklearn.ensemble import RandomForestClassifier\n",
    "from sklearn.metrics import mean_squared_error\n",
    "from sklearn.metrics import accuracy_score\n",
    "from dateutil.parser import *\n",
    "import matplotlib.pyplot as plt\n",
    "import seaborn as sns"
   ]
  },
  {
   "cell_type": "code",
   "execution_count": 2,
   "metadata": {
    "slideshow": {
     "slide_type": "skip"
    }
   },
   "outputs": [],
   "source": [
    "def encode_column(df, column):\n",
    "    \"\"\" replaces strings with according int \"\"\"\n",
    "    nationalities_set = {df[column].unique()[i]: i for i in range(len(df[column].unique()))}\n",
    "    df[column] = df[column].apply(lambda x: nationalities_set[x])       \n",
    "    \n",
    "def prepare_drivers():\n",
    "    drivers = pd.read_csv(\"data/drivers.csv\")\n",
    "    # encode nationality for models\n",
    "    encode_column(drivers, 'nationality')\n",
    "    drivers = drivers[['driverId', 'dob', 'nationality']]\n",
    "    drivers = drivers.dropna()\n",
    "#     drivers['dob'] = drivers['dob'].apply(lambda x: parse(str(x)).timestamp())\n",
    "    drivers['dob'] = drivers['dob'].apply(lambda x: parse(str(x)))\n",
    "    return drivers\n",
    "\n",
    "def prepare_races():\n",
    "    races = pd.read_csv(\"data/races.csv\")\n",
    "    races['name'] = races['name'].apply(lambda x: x.split(\" \")[0])\n",
    "#     races['date'] = races['date'].apply(lambda x: parse(x).timestamp())\n",
    "    races['date'] = races['date'].apply(lambda x: parse(x))\n",
    "    encode_column(races, 'name')\n",
    "    return races\n",
    "\n",
    "\n",
    "def prepare_standing(top_x):\n",
    "    standings = pd.read_csv(\"data/driverStandings.csv\")\n",
    "    standings.drop(columns=['positionText'], inplace=True)\n",
    "    standings['target'] = standings['position'].apply(lambda x: 1 if x <= top_x else 0)\n",
    "    \n",
    "    return standings\n",
    "\n",
    "def prepare_synthetic_table():\n",
    "    first_model_input = pd.merge(standings, races, on='raceId')\n",
    "    first_model_input = pd.merge(first_model_input, drivers, on='driverId')\n",
    "    first_model_input = first_model_input.dropna()\n",
    "    return first_model_input\n",
    "    \n",
    "# prepare raw data sets\n",
    "drivers = prepare_drivers()\n",
    "races = prepare_races()\n",
    "standings = prepare_standing(5)\n",
    "first_model_input = prepare_synthetic_table()"
   ]
  },
  {
   "cell_type": "markdown",
   "metadata": {
    "slideshow": {
     "slide_type": "slide"
    }
   },
   "source": [
    "### Hi there!\n",
    "\n",
    "- Name: Alisa Dammer\n",
    "- Occupation: Machine Learning Engineer\n",
    "- Company: FreeNow (former Mytaxi)\n",
    "- Interests: Becoming awesome+)\n"
   ]
  },
  {
   "cell_type": "markdown",
   "metadata": {
    "slideshow": {
     "slide_type": "slide"
    }
   },
   "source": [
    "### Pipeline\n",
    "\n",
    "- data collection\n",
    "- data preparation\n",
    "- feature engineering\n",
    "- feature selection\n",
    "- model training\n",
    "- model evaluation\n",
    "- repeat\n"
   ]
  },
  {
   "cell_type": "markdown",
   "metadata": {
    "slideshow": {
     "slide_type": "subslide"
    }
   },
   "source": [
    "\n",
    "![ML pipeline](pipeline.png \"General flow\")\n"
   ]
  },
  {
   "cell_type": "markdown",
   "metadata": {
    "slideshow": {
     "slide_type": "slide"
    }
   },
   "source": [
    "### Example:\n",
    "- Data: F1 tables\n",
    "- Target: predict if the driver will be top X of the race\n",
    "- baseline model: RandomForestClassifier\n"
   ]
  },
  {
   "cell_type": "code",
   "execution_count": 3,
   "metadata": {
    "slideshow": {
     "slide_type": "subslide"
    }
   },
   "outputs": [
    {
     "data": {
      "text/html": [
       "<div>\n",
       "<style scoped>\n",
       "    .dataframe tbody tr th:only-of-type {\n",
       "        vertical-align: middle;\n",
       "    }\n",
       "\n",
       "    .dataframe tbody tr th {\n",
       "        vertical-align: top;\n",
       "    }\n",
       "\n",
       "    .dataframe thead th {\n",
       "        text-align: right;\n",
       "    }\n",
       "</style>\n",
       "<table border=\"1\" class=\"dataframe\">\n",
       "  <thead>\n",
       "    <tr style=\"text-align: right;\">\n",
       "      <th></th>\n",
       "      <th>driverId</th>\n",
       "      <th>dob</th>\n",
       "      <th>nationality</th>\n",
       "    </tr>\n",
       "  </thead>\n",
       "  <tbody>\n",
       "    <tr>\n",
       "      <th>0</th>\n",
       "      <td>1</td>\n",
       "      <td>1985-07-01</td>\n",
       "      <td>0</td>\n",
       "    </tr>\n",
       "    <tr>\n",
       "      <th>1</th>\n",
       "      <td>2</td>\n",
       "      <td>1977-10-05</td>\n",
       "      <td>1</td>\n",
       "    </tr>\n",
       "    <tr>\n",
       "      <th>2</th>\n",
       "      <td>3</td>\n",
       "      <td>1985-06-27</td>\n",
       "      <td>1</td>\n",
       "    </tr>\n",
       "    <tr>\n",
       "      <th>3</th>\n",
       "      <td>4</td>\n",
       "      <td>1981-07-29</td>\n",
       "      <td>2</td>\n",
       "    </tr>\n",
       "    <tr>\n",
       "      <th>4</th>\n",
       "      <td>5</td>\n",
       "      <td>1981-10-19</td>\n",
       "      <td>3</td>\n",
       "    </tr>\n",
       "  </tbody>\n",
       "</table>\n",
       "</div>"
      ],
      "text/plain": [
       "   driverId        dob  nationality\n",
       "0         1 1985-07-01            0\n",
       "1         2 1977-10-05            1\n",
       "2         3 1985-06-27            1\n",
       "3         4 1981-07-29            2\n",
       "4         5 1981-10-19            3"
      ]
     },
     "execution_count": 3,
     "metadata": {},
     "output_type": "execute_result"
    }
   ],
   "source": [
    "drivers.head()"
   ]
  },
  {
   "cell_type": "code",
   "execution_count": 4,
   "metadata": {
    "slideshow": {
     "slide_type": "subslide"
    }
   },
   "outputs": [
    {
     "data": {
      "text/html": [
       "<div>\n",
       "<style scoped>\n",
       "    .dataframe tbody tr th:only-of-type {\n",
       "        vertical-align: middle;\n",
       "    }\n",
       "\n",
       "    .dataframe tbody tr th {\n",
       "        vertical-align: top;\n",
       "    }\n",
       "\n",
       "    .dataframe thead th {\n",
       "        text-align: right;\n",
       "    }\n",
       "</style>\n",
       "<table border=\"1\" class=\"dataframe\">\n",
       "  <thead>\n",
       "    <tr style=\"text-align: right;\">\n",
       "      <th></th>\n",
       "      <th>raceId</th>\n",
       "      <th>year</th>\n",
       "      <th>round</th>\n",
       "      <th>circuitId</th>\n",
       "      <th>name</th>\n",
       "      <th>date</th>\n",
       "    </tr>\n",
       "  </thead>\n",
       "  <tbody>\n",
       "    <tr>\n",
       "      <th>0</th>\n",
       "      <td>1</td>\n",
       "      <td>2009</td>\n",
       "      <td>1</td>\n",
       "      <td>1</td>\n",
       "      <td>0</td>\n",
       "      <td>2009-03-29</td>\n",
       "    </tr>\n",
       "    <tr>\n",
       "      <th>1</th>\n",
       "      <td>2</td>\n",
       "      <td>2009</td>\n",
       "      <td>2</td>\n",
       "      <td>2</td>\n",
       "      <td>1</td>\n",
       "      <td>2009-04-05</td>\n",
       "    </tr>\n",
       "    <tr>\n",
       "      <th>2</th>\n",
       "      <td>3</td>\n",
       "      <td>2009</td>\n",
       "      <td>3</td>\n",
       "      <td>17</td>\n",
       "      <td>2</td>\n",
       "      <td>2009-04-19</td>\n",
       "    </tr>\n",
       "    <tr>\n",
       "      <th>3</th>\n",
       "      <td>4</td>\n",
       "      <td>2009</td>\n",
       "      <td>4</td>\n",
       "      <td>3</td>\n",
       "      <td>3</td>\n",
       "      <td>2009-04-26</td>\n",
       "    </tr>\n",
       "    <tr>\n",
       "      <th>4</th>\n",
       "      <td>5</td>\n",
       "      <td>2009</td>\n",
       "      <td>5</td>\n",
       "      <td>4</td>\n",
       "      <td>4</td>\n",
       "      <td>2009-05-10</td>\n",
       "    </tr>\n",
       "  </tbody>\n",
       "</table>\n",
       "</div>"
      ],
      "text/plain": [
       "   raceId  year  round  circuitId  name       date\n",
       "0       1  2009      1          1     0 2009-03-29\n",
       "1       2  2009      2          2     1 2009-04-05\n",
       "2       3  2009      3         17     2 2009-04-19\n",
       "3       4  2009      4          3     3 2009-04-26\n",
       "4       5  2009      5          4     4 2009-05-10"
      ]
     },
     "execution_count": 4,
     "metadata": {},
     "output_type": "execute_result"
    }
   ],
   "source": [
    "races.head()"
   ]
  },
  {
   "cell_type": "code",
   "execution_count": 5,
   "metadata": {
    "slideshow": {
     "slide_type": "subslide"
    }
   },
   "outputs": [
    {
     "data": {
      "text/html": [
       "<div>\n",
       "<style scoped>\n",
       "    .dataframe tbody tr th:only-of-type {\n",
       "        vertical-align: middle;\n",
       "    }\n",
       "\n",
       "    .dataframe tbody tr th {\n",
       "        vertical-align: top;\n",
       "    }\n",
       "\n",
       "    .dataframe thead th {\n",
       "        text-align: right;\n",
       "    }\n",
       "</style>\n",
       "<table border=\"1\" class=\"dataframe\">\n",
       "  <thead>\n",
       "    <tr style=\"text-align: right;\">\n",
       "      <th></th>\n",
       "      <th>driverStandingsId</th>\n",
       "      <th>raceId</th>\n",
       "      <th>driverId</th>\n",
       "      <th>points</th>\n",
       "      <th>position</th>\n",
       "      <th>wins</th>\n",
       "      <th>target</th>\n",
       "    </tr>\n",
       "  </thead>\n",
       "  <tbody>\n",
       "    <tr>\n",
       "      <th>0</th>\n",
       "      <td>1</td>\n",
       "      <td>18</td>\n",
       "      <td>1</td>\n",
       "      <td>10.0</td>\n",
       "      <td>1</td>\n",
       "      <td>1</td>\n",
       "      <td>1</td>\n",
       "    </tr>\n",
       "    <tr>\n",
       "      <th>1</th>\n",
       "      <td>2</td>\n",
       "      <td>18</td>\n",
       "      <td>2</td>\n",
       "      <td>8.0</td>\n",
       "      <td>2</td>\n",
       "      <td>0</td>\n",
       "      <td>1</td>\n",
       "    </tr>\n",
       "    <tr>\n",
       "      <th>2</th>\n",
       "      <td>3</td>\n",
       "      <td>18</td>\n",
       "      <td>3</td>\n",
       "      <td>6.0</td>\n",
       "      <td>3</td>\n",
       "      <td>0</td>\n",
       "      <td>1</td>\n",
       "    </tr>\n",
       "    <tr>\n",
       "      <th>3</th>\n",
       "      <td>4</td>\n",
       "      <td>18</td>\n",
       "      <td>4</td>\n",
       "      <td>5.0</td>\n",
       "      <td>4</td>\n",
       "      <td>0</td>\n",
       "      <td>1</td>\n",
       "    </tr>\n",
       "    <tr>\n",
       "      <th>4</th>\n",
       "      <td>5</td>\n",
       "      <td>18</td>\n",
       "      <td>5</td>\n",
       "      <td>4.0</td>\n",
       "      <td>5</td>\n",
       "      <td>0</td>\n",
       "      <td>1</td>\n",
       "    </tr>\n",
       "  </tbody>\n",
       "</table>\n",
       "</div>"
      ],
      "text/plain": [
       "   driverStandingsId  raceId  driverId  points  position  wins  target\n",
       "0                  1      18         1    10.0         1     1       1\n",
       "1                  2      18         2     8.0         2     0       1\n",
       "2                  3      18         3     6.0         3     0       1\n",
       "3                  4      18         4     5.0         4     0       1\n",
       "4                  5      18         5     4.0         5     0       1"
      ]
     },
     "execution_count": 5,
     "metadata": {},
     "output_type": "execute_result"
    }
   ],
   "source": [
    "standings.head()"
   ]
  },
  {
   "cell_type": "markdown",
   "metadata": {
    "slideshow": {
     "slide_type": "subslide"
    }
   },
   "source": [
    "### Predict that a pilot will be in top X for the race (Calssify as top pilot)\n",
    "Possible input for predictions:\n",
    "- driverId\n",
    "- date_of_birth\n",
    "- nationality\n",
    "\n",
    "- raceId\n",
    "- name\n",
    "- date\n",
    "\n",
    "Fatures:\n",
    "- driverId\n",
    "- dob -> split into year and month (almost always a default transformation)\n",
    "- nationality\n",
    "- raceId\n",
    "- date -> split into year and month (almost always a default transformation)\n",
    "- name"
   ]
  },
  {
   "cell_type": "code",
   "execution_count": 6,
   "metadata": {
    "slideshow": {
     "slide_type": "skip"
    }
   },
   "outputs": [],
   "source": [
    "simple_model_df = pd.merge(standings, drivers, on='driverId')\n",
    "simple_model_df = pd.merge(simple_model_df, races, on='raceId')\n",
    "simple_model_df.drop(columns=['driverStandingsId', 'position', 'wins', 'year', 'round', 'circuitId', 'points'], inplace=True)\n",
    "simple_model_df = simple_model_df.dropna()\n",
    "simple_model_df['dob_year'] = simple_model_df['dob'].apply(lambda x: x.year)\n",
    "simple_model_df['dob_month'] = simple_model_df['dob'].apply(lambda x: x.month)\n",
    "simple_model_df['race_year'] = simple_model_df['date'].apply(lambda x: x.year)\n",
    "simple_model_df['race_month'] = simple_model_df['date'].apply(lambda x: x.month)\n",
    "simple_model_df.drop(columns=['dob', 'date'], inplace=True)"
   ]
  },
  {
   "cell_type": "code",
   "execution_count": 7,
   "metadata": {
    "slideshow": {
     "slide_type": "subslide"
    }
   },
   "outputs": [
    {
     "data": {
      "text/html": [
       "<div>\n",
       "<style scoped>\n",
       "    .dataframe tbody tr th:only-of-type {\n",
       "        vertical-align: middle;\n",
       "    }\n",
       "\n",
       "    .dataframe tbody tr th {\n",
       "        vertical-align: top;\n",
       "    }\n",
       "\n",
       "    .dataframe thead th {\n",
       "        text-align: right;\n",
       "    }\n",
       "</style>\n",
       "<table border=\"1\" class=\"dataframe\">\n",
       "  <thead>\n",
       "    <tr style=\"text-align: right;\">\n",
       "      <th></th>\n",
       "      <th>raceId</th>\n",
       "      <th>driverId</th>\n",
       "      <th>target</th>\n",
       "      <th>nationality</th>\n",
       "      <th>name</th>\n",
       "      <th>dob_year</th>\n",
       "      <th>dob_month</th>\n",
       "      <th>race_year</th>\n",
       "      <th>race_month</th>\n",
       "    </tr>\n",
       "  </thead>\n",
       "  <tbody>\n",
       "    <tr>\n",
       "      <th>0</th>\n",
       "      <td>18</td>\n",
       "      <td>1</td>\n",
       "      <td>1</td>\n",
       "      <td>0</td>\n",
       "      <td>0</td>\n",
       "      <td>1985</td>\n",
       "      <td>7</td>\n",
       "      <td>2008</td>\n",
       "      <td>3</td>\n",
       "    </tr>\n",
       "    <tr>\n",
       "      <th>1</th>\n",
       "      <td>18</td>\n",
       "      <td>2</td>\n",
       "      <td>1</td>\n",
       "      <td>1</td>\n",
       "      <td>0</td>\n",
       "      <td>1977</td>\n",
       "      <td>10</td>\n",
       "      <td>2008</td>\n",
       "      <td>3</td>\n",
       "    </tr>\n",
       "    <tr>\n",
       "      <th>2</th>\n",
       "      <td>18</td>\n",
       "      <td>3</td>\n",
       "      <td>1</td>\n",
       "      <td>1</td>\n",
       "      <td>0</td>\n",
       "      <td>1985</td>\n",
       "      <td>6</td>\n",
       "      <td>2008</td>\n",
       "      <td>3</td>\n",
       "    </tr>\n",
       "    <tr>\n",
       "      <th>3</th>\n",
       "      <td>18</td>\n",
       "      <td>4</td>\n",
       "      <td>1</td>\n",
       "      <td>2</td>\n",
       "      <td>0</td>\n",
       "      <td>1981</td>\n",
       "      <td>7</td>\n",
       "      <td>2008</td>\n",
       "      <td>3</td>\n",
       "    </tr>\n",
       "    <tr>\n",
       "      <th>4</th>\n",
       "      <td>18</td>\n",
       "      <td>5</td>\n",
       "      <td>1</td>\n",
       "      <td>3</td>\n",
       "      <td>0</td>\n",
       "      <td>1981</td>\n",
       "      <td>10</td>\n",
       "      <td>2008</td>\n",
       "      <td>3</td>\n",
       "    </tr>\n",
       "  </tbody>\n",
       "</table>\n",
       "</div>"
      ],
      "text/plain": [
       "   raceId  driverId  target  nationality  name  dob_year  dob_month  \\\n",
       "0      18         1       1            0     0      1985          7   \n",
       "1      18         2       1            1     0      1977         10   \n",
       "2      18         3       1            1     0      1985          6   \n",
       "3      18         4       1            2     0      1981          7   \n",
       "4      18         5       1            3     0      1981         10   \n",
       "\n",
       "   race_year  race_month  \n",
       "0       2008           3  \n",
       "1       2008           3  \n",
       "2       2008           3  \n",
       "3       2008           3  \n",
       "4       2008           3  "
      ]
     },
     "execution_count": 7,
     "metadata": {},
     "output_type": "execute_result"
    }
   ],
   "source": [
    "simple_model_df.head()"
   ]
  },
  {
   "cell_type": "code",
   "execution_count": 8,
   "metadata": {
    "slideshow": {
     "slide_type": "skip"
    }
   },
   "outputs": [],
   "source": [
    "train = simple_model_df[:int(simple_model_df.shape[0]*0.75)]\n",
    "train_Y = train['target']\n",
    "train_X = train.drop(columns=['target'])\n",
    "test = simple_model_df[int(simple_model_df.shape[0]*0.75):]\n",
    "test_Y = test['target']\n",
    "test_X = test.drop(columns=['target'])\n",
    "\n",
    "model_simple = RandomForestClassifier(n_estimators=100, max_depth=2, random_state=0)\n",
    "model_simple.fit(train_X, train_Y)  \n",
    "simple_prediction = model_simple.predict(test_X)\n",
    "mse_simple = mean_squared_error(test_Y.to_list(), simple_prediction)\n",
    "accuracy = accuracy_score(test_Y.to_list(), simple_prediction)\n"
   ]
  },
  {
   "cell_type": "code",
   "execution_count": 9,
   "metadata": {
    "slideshow": {
     "slide_type": "subslide"
    }
   },
   "outputs": [
    {
     "data": {
      "text/plain": [
       "0.913031914893617"
      ]
     },
     "execution_count": 9,
     "metadata": {},
     "output_type": "execute_result"
    }
   ],
   "source": [
    "accuracy"
   ]
  },
  {
   "cell_type": "markdown",
   "metadata": {
    "slideshow": {
     "slide_type": "slide"
    }
   },
   "source": [
    "### Can we improve by adding features?\n",
    "- How old was a pilot when taking part at race X\n",
    "- Is pilot from host country\n",
    "- Is pilot young?\n",
    "...\n"
   ]
  },
  {
   "cell_type": "markdown",
   "metadata": {
    "slideshow": {
     "slide_type": "subslide"
    }
   },
   "source": [
    "### Feature Engineering\n",
    "\n",
    "Creating new input for a model from existing data\n",
    "\n",
    "- Domain knowledge\n",
    "- Automatic approach\n"
   ]
  },
  {
   "cell_type": "markdown",
   "metadata": {
    "slideshow": {
     "slide_type": "subslide"
    }
   },
   "source": [
    "### Manual feature engineering\n",
    "\n",
    "- Timestamp + [holidays](https://pypi.org/project/holidays/)\n",
    "- Double click -> senior visitor\n",
    "- Domain knowledge hypothesis\n"
   ]
  },
  {
   "cell_type": "markdown",
   "metadata": {
    "slideshow": {
     "slide_type": "subslide"
    }
   },
   "source": [
    "### Featuretools\n",
    "\n",
    "[Featuretools](https://github.com/Featuretools/featuretools)\n"
   ]
  },
  {
   "cell_type": "code",
   "execution_count": 10,
   "metadata": {
    "slideshow": {
     "slide_type": "skip"
    }
   },
   "outputs": [],
   "source": [
    "# small preparation so that we do not get any target exposure\n",
    "standings_simple = standings[['driverId', 'raceId', \n",
    "                              'target', 'driverStandingsId']]\n",
    "target = standings_simple[['target', 'driverId']]\n",
    "standings_simple.drop(columns=['target'], inplace=True)\n",
    "race_simple = races[['raceId', 'date', 'name']]"
   ]
  },
  {
   "cell_type": "code",
   "execution_count": 11,
   "metadata": {
    "slideshow": {
     "slide_type": "subslide"
    }
   },
   "outputs": [],
   "source": [
    "# Entity set\n",
    "es = ft.EntitySet(id = 'top_formula_pilot')\n",
    "# Entities\n",
    "driver_types = {\"nationality\": ft.variable_types.Categorical,\n",
    "                \"dob\": ft.variable_types.DateOfBirth}\n",
    "es = es.entity_from_dataframe(entity_id=\"drivers\",\n",
    "                              dataframe=drivers,\n",
    "                              index=\"driverId\",\n",
    "                              variable_types=driver_types)\n",
    "\n",
    "stand_types = {\"raceId\": ft.variable_types.Id,\n",
    "               \"driverId\": ft.variable_types.Id}\n",
    "es = es.entity_from_dataframe(entity_id=\"standings\",\n",
    "                              dataframe=standings_simple,\n",
    "                              index=\"driverStandingsId\",\n",
    "                              variable_types=stand_types)\n",
    "\n",
    "race_types = {\"name\": ft.variable_types.Categorical,\n",
    "              \"date\": ft.variable_types.Datetime}\n",
    "es = es.entity_from_dataframe(entity_id=\"races\",\n",
    "                              dataframe=race_simple,\n",
    "                              index=\"raceId\",\n",
    "                              variable_types=race_types)"
   ]
  },
  {
   "cell_type": "code",
   "execution_count": 12,
   "metadata": {
    "slideshow": {
     "slide_type": "subslide"
    }
   },
   "outputs": [],
   "source": [
    "# Relationship\n",
    "es = es.add_relationship(ft.Relationship(es[\"drivers\"][\"driverId\"], \n",
    "                                         es[\"standings\"][\"driverId\"]))\n",
    "es = es.add_relationship(ft.Relationship(es[\"races\"][\"raceId\"], \n",
    "                                         es[\"standings\"][\"raceId\"]))"
   ]
  },
  {
   "cell_type": "code",
   "execution_count": 13,
   "metadata": {
    "slideshow": {
     "slide_type": "subslide"
    }
   },
   "outputs": [],
   "source": [
    "feature_matrix, feature_defs = ft.dfs(entityset=es, \n",
    "                                      target_entity=\"drivers\",\n",
    "                                      max_depth = 4)"
   ]
  },
  {
   "cell_type": "code",
   "execution_count": 14,
   "metadata": {
    "slideshow": {
     "slide_type": "skip"
    }
   },
   "outputs": [
    {
     "data": {
      "text/plain": [
       "RandomForestClassifier(bootstrap=True, class_weight=None, criterion='gini',\n",
       "            max_depth=2, max_features='auto', max_leaf_nodes=None,\n",
       "            min_impurity_decrease=0.0, min_impurity_split=None,\n",
       "            min_samples_leaf=1, min_samples_split=2,\n",
       "            min_weight_fraction_leaf=0.0, n_estimators=100, n_jobs=None,\n",
       "            oob_score=False, random_state=0, verbose=0, warm_start=False)"
      ]
     },
     "execution_count": 14,
     "metadata": {},
     "output_type": "execute_result"
    }
   ],
   "source": [
    "feature_matrix = feature_matrix.dropna()\n",
    "feature_matrix = pd.merge(feature_matrix, target, on='driverId')\n",
    "train = feature_matrix[:int(feature_matrix.shape[0]*0.75)]\n",
    "train_Y = train['target']\n",
    "train_X = train.drop(columns=['target'])\n",
    "test = feature_matrix[int(feature_matrix.shape[0]*0.75):]\n",
    "test_Y = test['target']\n",
    "test_X = test.drop(columns=['target'])\n",
    "\n",
    "\n",
    "\n",
    "model = RandomForestClassifier(n_estimators=100, max_depth=2, random_state=0)\n",
    "model.fit(train_X, train_Y)  "
   ]
  },
  {
   "cell_type": "code",
   "execution_count": 15,
   "metadata": {
    "slideshow": {
     "slide_type": "skip"
    }
   },
   "outputs": [],
   "source": [
    "complex_predictions = model.predict(test_X)\n",
    "mse_extended = mean_squared_error(test_Y.to_list(), complex_predictions)\n",
    "accuracy_extended = accuracy_score(test_Y.to_list(), complex_predictions)"
   ]
  },
  {
   "cell_type": "code",
   "execution_count": 16,
   "metadata": {
    "slideshow": {
     "slide_type": "subslide"
    }
   },
   "outputs": [
    {
     "data": {
      "text/plain": [
       "0.9272850372376439"
      ]
     },
     "execution_count": 16,
     "metadata": {},
     "output_type": "execute_result"
    }
   ],
   "source": [
    "accuracy_extended"
   ]
  },
  {
   "cell_type": "code",
   "execution_count": 17,
   "metadata": {
    "slideshow": {
     "slide_type": "subslide"
    }
   },
   "outputs": [
    {
     "data": {
      "image/png": "[encoded data removed]",
      "text/plain": [
       "<Figure size 432x288 with 1 Axes>"
      ]
     },
     "metadata": {
      "needs_background": "light"
     },
     "output_type": "display_data"
    }
   ],
   "source": [
    "feat_importances = pd.Series(model.feature_importances_, index=train_X.columns)\n",
    "feat_importances.nlargest(15).plot(kind='barh')\n",
    "plt.show()"
   ]
  },
  {
   "cell_type": "code",
   "execution_count": 18,
   "metadata": {
    "slideshow": {
     "slide_type": "subslide"
    }
   },
   "outputs": [
    {
     "data": {
      "text/plain": [
       "Index(['driverId', 'nationality', 'COUNT(standings)',\n",
       "       'NUM_UNIQUE(standings.raceId)', 'MODE(standings.raceId)', 'DAY(dob)',\n",
       "       'YEAR(dob)', 'MONTH(dob)', 'WEEKDAY(dob)',\n",
       "       'NUM_UNIQUE(standings.races.name)', 'MODE(standings.races.name)',\n",
       "       'SUM(standings.races.COUNT(standings))',\n",
       "       'SUM(standings.races.NUM_UNIQUE(standings.driverId))',\n",
       "       'STD(standings.races.COUNT(standings))',\n",
       "       'STD(standings.races.NUM_UNIQUE(standings.driverId))',\n",
       "       'MAX(standings.races.COUNT(standings))',\n",
       "       'MAX(standings.races.NUM_UNIQUE(standings.driverId))',\n",
       "       'SKEW(standings.races.COUNT(standings))',\n",
       "       'SKEW(standings.races.NUM_UNIQUE(standings.driverId))',\n",
       "       'MIN(standings.races.COUNT(standings))',\n",
       "       'MIN(standings.races.NUM_UNIQUE(standings.driverId))',\n",
       "       'MEAN(standings.races.COUNT(standings))',\n",
       "       'MEAN(standings.races.NUM_UNIQUE(standings.driverId))',\n",
       "       'NUM_UNIQUE(standings.races.MODE(standings.driverId))',\n",
       "       'NUM_UNIQUE(standings.races.DAY(date))',\n",
       "       'NUM_UNIQUE(standings.races.YEAR(date))',\n",
       "       'NUM_UNIQUE(standings.races.MONTH(date))',\n",
       "       'NUM_UNIQUE(standings.races.WEEKDAY(date))',\n",
       "       'MODE(standings.races.MODE(standings.driverId))',\n",
       "       'MODE(standings.races.DAY(date))', 'MODE(standings.races.YEAR(date))',\n",
       "       'MODE(standings.races.MONTH(date))',\n",
       "       'MODE(standings.races.WEEKDAY(date))', 'target'],\n",
       "      dtype='object')"
      ]
     },
     "execution_count": 18,
     "metadata": {},
     "output_type": "execute_result"
    }
   ],
   "source": [
    "feature_matrix.columns"
   ]
  },
  {
   "cell_type": "markdown",
   "metadata": {
    "slideshow": {
     "slide_type": "slide"
    }
   },
   "source": [
    "### Feature Selection\n",
    "\n",
    "- Reduces Overfitting\n",
    "\n",
    "- Improves Accuracy\n",
    "\n",
    "- Reduces Training Time\n"
   ]
  },
  {
   "cell_type": "markdown",
   "metadata": {
    "slideshow": {
     "slide_type": "subslide"
    }
   },
   "source": [
    "### How to?\n",
    "\n",
    "- manually take out features that make sense\n",
    "- automatically try different sets of features"
   ]
  },
  {
   "cell_type": "markdown",
   "metadata": {
    "slideshow": {
     "slide_type": "subslide"
    }
   },
   "source": [
    "### Manually- and semi-manually defined:\n",
    "\n",
    "- Univariate Selection\n",
    "\n",
    "- Feature Importance\n",
    "\n",
    "- Correlation Matrix with Heatmap\n",
    "\n",
    "good article: [feature_selection](https://towardsdatascience.com/feature-selection-techniques-in-machine-learning-with-python-f24e7da3f36e)"
   ]
  },
  {
   "cell_type": "code",
   "execution_count": 20,
   "metadata": {
    "slideshow": {
     "slide_type": "slide"
    }
   },
   "outputs": [
    {
     "name": "stdout",
     "output_type": "stream",
     "text": [
      "Old sdata shape: (22154, 33)\n",
      "New data shape: (22154, 11)\n"
     ]
    }
   ],
   "source": [
    "from sklearn.feature_selection import SelectFromModel\n",
    "new_model = SelectFromModel(model, prefit=True)\n",
    "X_new = new_model.transform(train_X)\n",
    "\n",
    "print(\"Old sdata shape: {}\".format(train_X.shape))\n",
    "print(\"New data shape: {}\".format(X_new.shape))"
   ]
  },
  {
   "cell_type": "code",
   "execution_count": 21,
   "metadata": {
    "slideshow": {
     "slide_type": "skip"
    }
   },
   "outputs": [
    {
     "data": {
      "text/plain": [
       "['COUNT(standings)',\n",
       " 'NUM_UNIQUE(standings.raceId)',\n",
       " 'MODE(standings.raceId)',\n",
       " 'NUM_UNIQUE(standings.races.name)',\n",
       " 'SUM(standings.races.COUNT(standings))',\n",
       " 'SUM(standings.races.NUM_UNIQUE(standings.driverId))',\n",
       " 'MIN(standings.races.COUNT(standings))',\n",
       " 'MIN(standings.races.NUM_UNIQUE(standings.driverId))',\n",
       " 'NUM_UNIQUE(standings.races.DAY(date))',\n",
       " 'NUM_UNIQUE(standings.races.YEAR(date))',\n",
       " 'NUM_UNIQUE(standings.races.MONTH(date))',\n",
       " 'driverId']"
      ]
     },
     "execution_count": 21,
     "metadata": {},
     "output_type": "execute_result"
    }
   ],
   "source": [
    "mask = new_model.get_support()\n",
    "assert len(mask) == train_X.shape[1]\n",
    "old_features = list(train_X.columns)\n",
    "good_features = [old_features[i] for i in range(len(mask)) if mask[i]]\n",
    "good_features.append('driverId')\n",
    "good_features"
   ]
  },
  {
   "cell_type": "code",
   "execution_count": 22,
   "metadata": {
    "slideshow": {
     "slide_type": "skip"
    }
   },
   "outputs": [],
   "source": [
    "new_feature_matrix = feature_matrix[good_features].copy()\n",
    "new_feature_matrix = pd.merge(new_feature_matrix, target, on='driverId')\n",
    "new_feature_matrix.drop(columns=['driverId'], inplace=True)\n",
    "new_train = new_feature_matrix[:int(new_feature_matrix.shape[0]*0.75)]\n",
    "new_train_Y = new_train['target']\n",
    "new_train_X = new_train.drop(columns=['target'])\n",
    "new_test = new_feature_matrix[int(new_feature_matrix.shape[0]*0.75):]\n",
    "new_test_Y = new_test['target']\n",
    "new_test_X = new_test.drop(columns=['target'])"
   ]
  },
  {
   "cell_type": "code",
   "execution_count": 23,
   "metadata": {
    "slideshow": {
     "slide_type": "skip"
    }
   },
   "outputs": [],
   "source": [
    "new_model = RandomForestClassifier(n_estimators=100, max_depth=2, random_state=0)\n",
    "new_model.fit(new_train_X, new_train_Y)  \n",
    "new_predict = new_model.predict(new_test_X)\n",
    "accuracy_selected = accuracy_score(new_test_Y.to_list(), new_predict)"
   ]
  },
  {
   "cell_type": "code",
   "execution_count": 24,
   "metadata": {
    "slideshow": {
     "slide_type": "subslide"
    }
   },
   "outputs": [
    {
     "data": {
      "text/plain": [
       "0.8147757421426645"
      ]
     },
     "execution_count": 24,
     "metadata": {},
     "output_type": "execute_result"
    }
   ],
   "source": [
    "accuracy_selected"
   ]
  },
  {
   "cell_type": "code",
   "execution_count": 25,
   "metadata": {
    "slideshow": {
     "slide_type": "subslide"
    }
   },
   "outputs": [
    {
     "data": {
      "image/png": "[encoded data removed]",
      "text/plain": [
       "<Figure size 432x288 with 1 Axes>"
      ]
     },
     "metadata": {
      "needs_background": "light"
     },
     "output_type": "display_data"
    }
   ],
   "source": [
    "feat_importances = pd.Series(new_model.feature_importances_, index=new_train_X.columns)\n",
    "feat_importances.nlargest(11).plot(kind='barh')\n",
    "plt.show()"
   ]
  },
  {
   "cell_type": "markdown",
   "metadata": {
    "slideshow": {
     "slide_type": "slide"
    }
   },
   "source": [
    "### Model independent FS"
   ]
  },
  {
   "cell_type": "code",
   "execution_count": 26,
   "metadata": {
    "slideshow": {
     "slide_type": "skip"
    }
   },
   "outputs": [
    {
     "data": {
      "text/plain": [
       "<Figure size 1728x1728 with 0 Axes>"
      ]
     },
     "execution_count": 26,
     "metadata": {},
     "output_type": "execute_result"
    },
    {
     "data": {
      "text/plain": [
       "<Figure size 1728x1728 with 0 Axes>"
      ]
     },
     "metadata": {},
     "output_type": "display_data"
    }
   ],
   "source": [
    "#get correlations of each features in dataset\n",
    "sns.set(rc={'figure.figsize':(11.7,8.27)})\n",
    "tmp_df = new_feature_matrix.copy()\n",
    "tmp_df.drop(columns=['target'], inplace=True)\n",
    "mapping = {}\n",
    "for i in range(len(tmp_df.columns)):\n",
    "    mapping[i] = tmp_df.columns[i]\n",
    "\n",
    "tmp_df.columns = list(mapping.keys())\n",
    "\n",
    "corrmat = tmp_df.corr()\n",
    "top_corr_features = corrmat.index\n",
    "plt.figure(figsize=(24,24))"
   ]
  },
  {
   "cell_type": "code",
   "execution_count": 27,
   "metadata": {
    "slideshow": {
     "slide_type": "subslide"
    }
   },
   "outputs": [
    {
     "data": {
      "image/png": "[encoded data removed]",
      "text/plain": [
       "<Figure size 842.4x595.44 with 2 Axes>"
      ]
     },
     "metadata": {},
     "output_type": "display_data"
    }
   ],
   "source": [
    "g=sns.heatmap(tmp_df[top_corr_features].corr(),\n",
    "              annot=True,cmap=\"RdYlGn\")"
   ]
  },
  {
   "cell_type": "markdown",
   "metadata": {
    "slideshow": {
     "slide_type": "slide"
    }
   },
   "source": [
    "### Automated Pipeline:\n",
    "\n",
    "- Tpot [Tpot](https://epistasislab.github.io/tpot/)"
   ]
  },
  {
   "cell_type": "markdown",
   "metadata": {
    "slideshow": {
     "slide_type": "subslide"
    }
   },
   "source": [
    "![Tpot pipeline](tpot-ml-pipeline.png \"How does Tpot do it?\")"
   ]
  },
  {
   "cell_type": "code",
   "execution_count": 69,
   "metadata": {
    "slideshow": {
     "slide_type": "skip"
    }
   },
   "outputs": [
    {
     "name": "stdout",
     "output_type": "stream",
     "text": [
      "Warning: xgboost.XGBClassifier is not available and will not be used by TPOT.\n"
     ]
    },
    {
     "data": {
      "application/vnd.jupyter.widget-view+json": {
       "model_id": "",
       "version_major": 2,
       "version_minor": 0
      },
      "text/plain": [
       "HBox(children=(IntProgress(value=0, description='Optimization Progress', max=120, style=ProgressStyle(descript…"
      ]
     },
     "metadata": {},
     "output_type": "display_data"
    },
    {
     "name": "stdout",
     "output_type": "stream",
     "text": [
      "Generation 1 - Current best internal CV score: 0.8088832782372093\n",
      "Generation 2 - Current best internal CV score: 0.8088832782372093\n",
      "Generation 3 - Current best internal CV score: 0.8088832782372093\n",
      "Generation 4 - Current best internal CV score: 0.8091091137598685\n",
      "Generation 5 - Current best internal CV score: 0.8091091137598685\n",
      "\n",
      "Best pipeline: RandomForestClassifier(Binarizer(RFE(input_matrix, criterion=entropy, max_features=0.35000000000000003, n_estimators=100, step=0.25), threshold=0.45), bootstrap=True, criterion=entropy, max_features=0.8, min_samples_leaf=16, min_samples_split=13, n_estimators=100)\n",
      "0.9117129316181449\n",
      "pipeline ran for 1828.152995109558\n"
     ]
    }
   ],
   "source": [
    "from tpot import TPOTClassifier\n",
    "import time\n",
    "\n",
    "pipeline_optimizer = TPOTClassifier()\n",
    "pipeline_optimizer = TPOTClassifier(generations=5, population_size=20, cv=5,\n",
    "                                    random_state=42, verbosity=2)\n",
    "start = time.time()\n",
    "pipeline_optimizer.fit(train_X, train_Y)\n",
    "print(pipeline_optimizer.score(test_X, test_Y))\n",
    "pipeline_optimizer.export('tpot_exported_pipeline.py')\n",
    "end = time.time()\n",
    "print(\"pipeline ran for {}\".format(end - start))"
   ]
  },
  {
   "cell_type": "markdown",
   "metadata": {
    "slideshow": {
     "slide_type": "subslide"
    }
   },
   "source": [
    "Example output of a tpot run\n",
    "```\n",
    "Warning: xgboost.XGBClassifier is not available and will not be used by TPOT.\n",
    "Generation 1 - Current best internal CV score: 0.8088832782372093\n",
    "Generation 2 - Current best internal CV score: 0.8088832782372093\n",
    "Generation 3 - Current best internal CV score: 0.8088832782372093\n",
    "Generation 4 - Current best internal CV score: 0.8091091137598685\n",
    "Generation 5 - Current best internal CV score: 0.8091091137598685\n",
    "\n",
    "Best pipeline: RandomForestClassifier(Binarizer(RFE(input_matrix, criterion=entropy, max_features=0.35000000000000003, n_estimators=100, step=0.25), threshold=0.45), bootstrap=True, criterion=entropy, max_features=0.8, min_samples_leaf=16, min_samples_split=13, n_estimators=100)\n",
    "0.9117129316181449\n",
    "pipeline ran for 1811.1591787338257\n",
    "```"
   ]
  },
  {
   "cell_type": "code",
   "execution_count": 28,
   "metadata": {
    "slideshow": {
     "slide_type": "skip"
    }
   },
   "outputs": [
    {
     "name": "stdout",
     "output_type": "stream",
     "text": [
      "Old features shape: 33\n",
      "New features shape: 32\n"
     ]
    }
   ],
   "source": [
    "from sklearn.ensemble import ExtraTreesClassifier, RandomForestClassifier\n",
    "from sklearn.feature_selection import RFE\n",
    "from sklearn.model_selection import train_test_split\n",
    "from sklearn.pipeline import make_pipeline\n",
    "from sklearn.preprocessing import Binarizer\n",
    "\n",
    "# NOTE: Make sure that the class is labeled 'target' in the data file\n",
    "tpot_data = feature_matrix.copy()\n",
    "features = tpot_data.drop('target', axis=1).values\n",
    "training_features, testing_features, training_target, testing_target = \\\n",
    "            train_test_split(features, tpot_data['target'].values, random_state=42)\n",
    "\n",
    "# Average CV score on the training set was:0.8091091137598685\n",
    "exported_pipeline = make_pipeline(\n",
    "    RFE(estimator=ExtraTreesClassifier(criterion=\"entropy\", max_features=0.35000000000000003, n_estimators=100), step=0.25),\n",
    "    Binarizer(threshold=0.45),\n",
    "    RandomForestClassifier(bootstrap=True, criterion=\"entropy\", max_features=0.8, min_samples_leaf=16, min_samples_split=13, n_estimators=100)\n",
    ")\n",
    "\n",
    "print(\"Old features shape: {}\".format(feature_matrix.shape[1]-1))\n",
    "print(\"New features shape: {}\".format(training_features.shape[1]-1))\n",
    "\n",
    "\n",
    "exported_pipeline.fit(training_features, training_target)\n",
    "automl_prediction = exported_pipeline.predict(testing_features)\n",
    "mse_automl_prediction = accuracy_score(testing_target, automl_prediction)\n"
   ]
  },
  {
   "cell_type": "code",
   "execution_count": 29,
   "metadata": {
    "slideshow": {
     "slide_type": "subslide"
    }
   },
   "outputs": [
    {
     "data": {
      "text/plain": [
       "0.8477995937711578"
      ]
     },
     "execution_count": 29,
     "metadata": {},
     "output_type": "execute_result"
    }
   ],
   "source": [
    "mse_automl_prediction"
   ]
  },
  {
   "cell_type": "markdown",
   "metadata": {
    "slideshow": {
     "slide_type": "subslide"
    }
   },
   "source": [
    "### Limitations of AutoML\n",
    "- requires time\n",
    "- higher complexity due to additional hyperparameters\n",
    "- results might differ\n",
    "- less control\n",
    "- new features require rerun of the whole pipeline optimization"
   ]
  }
 ],
 "metadata": {
  "celltoolbar": "Slideshow",
  "kernelspec": {
   "display_name": "Python 3",
   "language": "python",
   "name": "python3"
  },
  "language_info": {
   "codemirror_mode": {
    "name": "ipython",
    "version": 3
   },
   "file_extension": ".py",
   "mimetype": "text/x-python",
   "name": "python",
   "nbconvert_exporter": "python",
   "pygments_lexer": "ipython3",
   "version": "3.7.3"
  }
 },
 "nbformat": 4,
 "nbformat_minor": 2
}
