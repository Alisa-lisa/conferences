{
 "cells": [
  {
   "cell_type": "code",
   "execution_count": 1,
   "metadata": {
    "slideshow": {
     "slide_type": "skip"
    }
   },
   "outputs": [],
   "source": [
    "import pandas as pd\n",
    "import numpy as np\n",
    "import matplotlib\n",
    "import sklearn\n",
    "import featuretools as ft\n",
    "import io\n",
    "import requests\n",
    "from sklearn.ensemble import RandomForestClassifier\n",
    "from sklearn.metrics import mean_squared_error\n",
    "from dateutil.parser import *"
   ]
  },
  {
   "cell_type": "code",
   "execution_count": 14,
   "metadata": {
    "slideshow": {
     "slide_type": "skip"
    }
   },
   "outputs": [],
   "source": [
    "def encode_column(df, column):\n",
    "    \"\"\" replaces strings with according int \"\"\"\n",
    "    nationalities_set = {df[column].unique()[i]: i for i in range(len(df[column].unique()))}\n",
    "    df[column] = df[column].apply(lambda x: nationalities_set[x])       \n",
    "    \n",
    "def prepare_drivers():\n",
    "    drivers = pd.read_csv(\"data/drivers.csv\")\n",
    "    # encode nationality for models\n",
    "    encode_column(drivers, 'nationality')\n",
    "    drivers = drivers[['driverId', 'dob', 'nationality']]\n",
    "    drivers = drivers.dropna()\n",
    "#     drivers['dob'] = drivers['dob'].apply(lambda x: parse(str(x)).timestamp())\n",
    "    drivers['dob'] = drivers['dob'].apply(lambda x: parse(str(x)))\n",
    "    return drivers\n",
    "\n",
    "def prepare_races():\n",
    "    races = pd.read_csv(\"data/races.csv\")\n",
    "    races['name'] = races['name'].apply(lambda x: x.split(\" \")[0])\n",
    "#     races['date'] = races['date'].apply(lambda x: parse(x).timestamp())\n",
    "    races['date'] = races['date'].apply(lambda x: parse(x))\n",
    "    encode_column(races, 'name')\n",
    "    return races\n",
    "\n",
    "\n",
    "def prepare_standing(top_x):\n",
    "    standings = pd.read_csv(\"data/driverStandings.csv\")\n",
    "    standings.drop(columns=['positionText'], inplace=True)\n",
    "    standings['target'] = standings['position'].apply(lambda x: 1 if x <= top_x else 0)\n",
    "    \n",
    "    return standings\n",
    "\n",
    "def prepare_synthetic_table():\n",
    "    first_model_input = pd.merge(standings, races, on='raceId')\n",
    "    first_model_input = pd.merge(first_model_input, drivers, on='driverId')\n",
    "    first_model_input = first_model_input.dropna()\n",
    "    return first_model_input\n",
    "    \n",
    "# prepare raw data sets\n",
    "drivers = prepare_drivers()\n",
    "races = prepare_races()\n",
    "standings = prepare_standing(5)\n",
    "first_model_input = prepare_synthetic_table()"
   ]
  },
  {
   "cell_type": "markdown",
   "metadata": {
    "slideshow": {
     "slide_type": "slide"
    }
   },
   "source": [
    "### Pipeline\n",
    "\n",
    "- data collection\n",
    "- data preparation\n",
    "- feature engineering\n",
    "- feature selection\n",
    "- model training\n",
    "- model evaluation\n",
    "- repeat\n"
   ]
  },
  {
   "cell_type": "markdown",
   "metadata": {
    "slideshow": {
     "slide_type": "subslide"
    }
   },
   "source": [
    "##### TODO: proper cool picture\n",
    "![Pipeline](bear.png \"What is a data pipeline?\")\n"
   ]
  },
  {
   "cell_type": "markdown",
   "metadata": {
    "slideshow": {
     "slide_type": "slide"
    }
   },
   "source": [
    "### Feature Engineering\n",
    "\n",
    "Creating new input for a model from existing data\n",
    "\n",
    "- Domain knowledge\n",
    "- Automatic approach\n"
   ]
  },
  {
   "cell_type": "markdown",
   "metadata": {
    "slideshow": {
     "slide_type": "subslide"
    }
   },
   "source": [
    "### Manual feature engineering\n",
    "\n",
    "- Timestamp + [holidays](https://pypi.org/project/holidays/)\n",
    "- Double click -> senior visitor\n",
    "- Domain knowledge hypothesis\n"
   ]
  },
  {
   "cell_type": "markdown",
   "metadata": {
    "slideshow": {
     "slide_type": "subslide"
    }
   },
   "source": [
    "### Featuretools\n",
    "\n",
    "[Featuretools](https://github.com/Featuretools/featuretools)\n"
   ]
  },
  {
   "cell_type": "code",
   "execution_count": 15,
   "metadata": {
    "slideshow": {
     "slide_type": "slide"
    }
   },
   "outputs": [
    {
     "data": {
      "text/html": [
       "<div>\n",
       "<style scoped>\n",
       "    .dataframe tbody tr th:only-of-type {\n",
       "        vertical-align: middle;\n",
       "    }\n",
       "\n",
       "    .dataframe tbody tr th {\n",
       "        vertical-align: top;\n",
       "    }\n",
       "\n",
       "    .dataframe thead th {\n",
       "        text-align: right;\n",
       "    }\n",
       "</style>\n",
       "<table border=\"1\" class=\"dataframe\">\n",
       "  <thead>\n",
       "    <tr style=\"text-align: right;\">\n",
       "      <th></th>\n",
       "      <th>driverId</th>\n",
       "      <th>dob</th>\n",
       "      <th>nationality</th>\n",
       "    </tr>\n",
       "  </thead>\n",
       "  <tbody>\n",
       "    <tr>\n",
       "      <th>0</th>\n",
       "      <td>1</td>\n",
       "      <td>1985-07-01</td>\n",
       "      <td>0</td>\n",
       "    </tr>\n",
       "    <tr>\n",
       "      <th>1</th>\n",
       "      <td>2</td>\n",
       "      <td>1977-10-05</td>\n",
       "      <td>1</td>\n",
       "    </tr>\n",
       "    <tr>\n",
       "      <th>2</th>\n",
       "      <td>3</td>\n",
       "      <td>1985-06-27</td>\n",
       "      <td>1</td>\n",
       "    </tr>\n",
       "    <tr>\n",
       "      <th>3</th>\n",
       "      <td>4</td>\n",
       "      <td>1981-07-29</td>\n",
       "      <td>2</td>\n",
       "    </tr>\n",
       "    <tr>\n",
       "      <th>4</th>\n",
       "      <td>5</td>\n",
       "      <td>1981-10-19</td>\n",
       "      <td>3</td>\n",
       "    </tr>\n",
       "  </tbody>\n",
       "</table>\n",
       "</div>"
      ],
      "text/plain": [
       "   driverId        dob  nationality\n",
       "0         1 1985-07-01            0\n",
       "1         2 1977-10-05            1\n",
       "2         3 1985-06-27            1\n",
       "3         4 1981-07-29            2\n",
       "4         5 1981-10-19            3"
      ]
     },
     "execution_count": 15,
     "metadata": {},
     "output_type": "execute_result"
    }
   ],
   "source": [
    "drivers.head()"
   ]
  },
  {
   "cell_type": "code",
   "execution_count": 19,
   "metadata": {
    "slideshow": {
     "slide_type": "slide"
    }
   },
   "outputs": [
    {
     "data": {
      "text/html": [
       "<div>\n",
       "<style scoped>\n",
       "    .dataframe tbody tr th:only-of-type {\n",
       "        vertical-align: middle;\n",
       "    }\n",
       "\n",
       "    .dataframe tbody tr th {\n",
       "        vertical-align: top;\n",
       "    }\n",
       "\n",
       "    .dataframe thead th {\n",
       "        text-align: right;\n",
       "    }\n",
       "</style>\n",
       "<table border=\"1\" class=\"dataframe\">\n",
       "  <thead>\n",
       "    <tr style=\"text-align: right;\">\n",
       "      <th></th>\n",
       "      <th>raceId</th>\n",
       "      <th>year</th>\n",
       "      <th>round</th>\n",
       "      <th>circuitId</th>\n",
       "      <th>name</th>\n",
       "      <th>date</th>\n",
       "    </tr>\n",
       "  </thead>\n",
       "  <tbody>\n",
       "    <tr>\n",
       "      <th>0</th>\n",
       "      <td>1</td>\n",
       "      <td>2009</td>\n",
       "      <td>1</td>\n",
       "      <td>1</td>\n",
       "      <td>0</td>\n",
       "      <td>2009-03-29</td>\n",
       "    </tr>\n",
       "    <tr>\n",
       "      <th>1</th>\n",
       "      <td>2</td>\n",
       "      <td>2009</td>\n",
       "      <td>2</td>\n",
       "      <td>2</td>\n",
       "      <td>1</td>\n",
       "      <td>2009-04-05</td>\n",
       "    </tr>\n",
       "    <tr>\n",
       "      <th>2</th>\n",
       "      <td>3</td>\n",
       "      <td>2009</td>\n",
       "      <td>3</td>\n",
       "      <td>17</td>\n",
       "      <td>2</td>\n",
       "      <td>2009-04-19</td>\n",
       "    </tr>\n",
       "    <tr>\n",
       "      <th>3</th>\n",
       "      <td>4</td>\n",
       "      <td>2009</td>\n",
       "      <td>4</td>\n",
       "      <td>3</td>\n",
       "      <td>3</td>\n",
       "      <td>2009-04-26</td>\n",
       "    </tr>\n",
       "    <tr>\n",
       "      <th>4</th>\n",
       "      <td>5</td>\n",
       "      <td>2009</td>\n",
       "      <td>5</td>\n",
       "      <td>4</td>\n",
       "      <td>4</td>\n",
       "      <td>2009-05-10</td>\n",
       "    </tr>\n",
       "  </tbody>\n",
       "</table>\n",
       "</div>"
      ],
      "text/plain": [
       "   raceId  year  round  circuitId  name       date\n",
       "0       1  2009      1          1     0 2009-03-29\n",
       "1       2  2009      2          2     1 2009-04-05\n",
       "2       3  2009      3         17     2 2009-04-19\n",
       "3       4  2009      4          3     3 2009-04-26\n",
       "4       5  2009      5          4     4 2009-05-10"
      ]
     },
     "execution_count": 19,
     "metadata": {},
     "output_type": "execute_result"
    }
   ],
   "source": [
    "races.head()"
   ]
  },
  {
   "cell_type": "code",
   "execution_count": 17,
   "metadata": {
    "slideshow": {
     "slide_type": "slide"
    }
   },
   "outputs": [
    {
     "data": {
      "text/html": [
       "<div>\n",
       "<style scoped>\n",
       "    .dataframe tbody tr th:only-of-type {\n",
       "        vertical-align: middle;\n",
       "    }\n",
       "\n",
       "    .dataframe tbody tr th {\n",
       "        vertical-align: top;\n",
       "    }\n",
       "\n",
       "    .dataframe thead th {\n",
       "        text-align: right;\n",
       "    }\n",
       "</style>\n",
       "<table border=\"1\" class=\"dataframe\">\n",
       "  <thead>\n",
       "    <tr style=\"text-align: right;\">\n",
       "      <th></th>\n",
       "      <th>driverStandingsId</th>\n",
       "      <th>raceId</th>\n",
       "      <th>driverId</th>\n",
       "      <th>points</th>\n",
       "      <th>position</th>\n",
       "      <th>wins</th>\n",
       "      <th>target</th>\n",
       "    </tr>\n",
       "  </thead>\n",
       "  <tbody>\n",
       "    <tr>\n",
       "      <th>0</th>\n",
       "      <td>1</td>\n",
       "      <td>18</td>\n",
       "      <td>1</td>\n",
       "      <td>10.0</td>\n",
       "      <td>1</td>\n",
       "      <td>1</td>\n",
       "      <td>1</td>\n",
       "    </tr>\n",
       "    <tr>\n",
       "      <th>1</th>\n",
       "      <td>2</td>\n",
       "      <td>18</td>\n",
       "      <td>2</td>\n",
       "      <td>8.0</td>\n",
       "      <td>2</td>\n",
       "      <td>0</td>\n",
       "      <td>1</td>\n",
       "    </tr>\n",
       "    <tr>\n",
       "      <th>2</th>\n",
       "      <td>3</td>\n",
       "      <td>18</td>\n",
       "      <td>3</td>\n",
       "      <td>6.0</td>\n",
       "      <td>3</td>\n",
       "      <td>0</td>\n",
       "      <td>1</td>\n",
       "    </tr>\n",
       "    <tr>\n",
       "      <th>3</th>\n",
       "      <td>4</td>\n",
       "      <td>18</td>\n",
       "      <td>4</td>\n",
       "      <td>5.0</td>\n",
       "      <td>4</td>\n",
       "      <td>0</td>\n",
       "      <td>1</td>\n",
       "    </tr>\n",
       "    <tr>\n",
       "      <th>4</th>\n",
       "      <td>5</td>\n",
       "      <td>18</td>\n",
       "      <td>5</td>\n",
       "      <td>4.0</td>\n",
       "      <td>5</td>\n",
       "      <td>0</td>\n",
       "      <td>1</td>\n",
       "    </tr>\n",
       "  </tbody>\n",
       "</table>\n",
       "</div>"
      ],
      "text/plain": [
       "   driverStandingsId  raceId  driverId  points  position  wins  target\n",
       "0                  1      18         1    10.0         1     1       1\n",
       "1                  2      18         2     8.0         2     0       1\n",
       "2                  3      18         3     6.0         3     0       1\n",
       "3                  4      18         4     5.0         4     0       1\n",
       "4                  5      18         5     4.0         5     0       1"
      ]
     },
     "execution_count": 17,
     "metadata": {},
     "output_type": "execute_result"
    }
   ],
   "source": [
    "standings.head()"
   ]
  },
  {
   "cell_type": "markdown",
   "metadata": {
    "slideshow": {
     "slide_type": "slide"
    }
   },
   "source": [
    "### Predict that a pilot will be in top X for the race (Calssify as top pilot)\n",
    "Possible input for predictions:\n",
    "- driverId\n",
    "- date_of_birth\n",
    "- nationality\n",
    "\n",
    "- raceId\n",
    "- name\n",
    "- date\n",
    "\n",
    "Fatures:\n",
    "- driverId\n",
    "- dob -> split into year and month (almost always a default transformation)\n",
    "- nationality\n",
    "- raceId\n",
    "- date -> split into year and month (almost always a default transformation)\n",
    "- name"
   ]
  },
  {
   "cell_type": "code",
   "execution_count": 37,
   "metadata": {
    "slideshow": {
     "slide_type": "skip"
    }
   },
   "outputs": [],
   "source": [
    "simple_model_df = pd.merge(standings, drivers, on='driverId')\n",
    "simple_model_df = pd.merge(simple_model_df, races, on='raceId')\n",
    "simple_model_df.drop(columns=['driverStandingsId', 'position', 'wins', 'year', 'round', 'circuitId', 'points'], inplace=True)\n",
    "simple_model_df = simple_model_df.dropna()\n",
    "simple_model_df['dob_year'] = simple_model_df['dob'].apply(lambda x: x.year)\n",
    "simple_model_df['dob_month'] = simple_model_df['dob'].apply(lambda x: x.month)\n",
    "simple_model_df['race_year'] = simple_model_df['date'].apply(lambda x: x.year)\n",
    "simple_model_df['race_month'] = simple_model_df['date'].apply(lambda x: x.month)\n",
    "simple_model_df.drop(columns=['dob', 'date'], inplace=True)"
   ]
  },
  {
   "cell_type": "code",
   "execution_count": 38,
   "metadata": {
    "slideshow": {
     "slide_type": "subslide"
    }
   },
   "outputs": [
    {
     "data": {
      "text/html": [
       "<div>\n",
       "<style scoped>\n",
       "    .dataframe tbody tr th:only-of-type {\n",
       "        vertical-align: middle;\n",
       "    }\n",
       "\n",
       "    .dataframe tbody tr th {\n",
       "        vertical-align: top;\n",
       "    }\n",
       "\n",
       "    .dataframe thead th {\n",
       "        text-align: right;\n",
       "    }\n",
       "</style>\n",
       "<table border=\"1\" class=\"dataframe\">\n",
       "  <thead>\n",
       "    <tr style=\"text-align: right;\">\n",
       "      <th></th>\n",
       "      <th>raceId</th>\n",
       "      <th>driverId</th>\n",
       "      <th>target</th>\n",
       "      <th>nationality</th>\n",
       "      <th>name</th>\n",
       "      <th>dob_year</th>\n",
       "      <th>dob_month</th>\n",
       "      <th>race_year</th>\n",
       "      <th>race_month</th>\n",
       "    </tr>\n",
       "  </thead>\n",
       "  <tbody>\n",
       "    <tr>\n",
       "      <th>0</th>\n",
       "      <td>18</td>\n",
       "      <td>1</td>\n",
       "      <td>1</td>\n",
       "      <td>0</td>\n",
       "      <td>0</td>\n",
       "      <td>1985</td>\n",
       "      <td>7</td>\n",
       "      <td>2008</td>\n",
       "      <td>3</td>\n",
       "    </tr>\n",
       "    <tr>\n",
       "      <th>1</th>\n",
       "      <td>18</td>\n",
       "      <td>2</td>\n",
       "      <td>1</td>\n",
       "      <td>1</td>\n",
       "      <td>0</td>\n",
       "      <td>1977</td>\n",
       "      <td>10</td>\n",
       "      <td>2008</td>\n",
       "      <td>3</td>\n",
       "    </tr>\n",
       "    <tr>\n",
       "      <th>2</th>\n",
       "      <td>18</td>\n",
       "      <td>3</td>\n",
       "      <td>1</td>\n",
       "      <td>1</td>\n",
       "      <td>0</td>\n",
       "      <td>1985</td>\n",
       "      <td>6</td>\n",
       "      <td>2008</td>\n",
       "      <td>3</td>\n",
       "    </tr>\n",
       "    <tr>\n",
       "      <th>3</th>\n",
       "      <td>18</td>\n",
       "      <td>4</td>\n",
       "      <td>1</td>\n",
       "      <td>2</td>\n",
       "      <td>0</td>\n",
       "      <td>1981</td>\n",
       "      <td>7</td>\n",
       "      <td>2008</td>\n",
       "      <td>3</td>\n",
       "    </tr>\n",
       "    <tr>\n",
       "      <th>4</th>\n",
       "      <td>18</td>\n",
       "      <td>5</td>\n",
       "      <td>1</td>\n",
       "      <td>3</td>\n",
       "      <td>0</td>\n",
       "      <td>1981</td>\n",
       "      <td>10</td>\n",
       "      <td>2008</td>\n",
       "      <td>3</td>\n",
       "    </tr>\n",
       "  </tbody>\n",
       "</table>\n",
       "</div>"
      ],
      "text/plain": [
       "   raceId  driverId  target  nationality  name  dob_year  dob_month  \\\n",
       "0      18         1       1            0     0      1985          7   \n",
       "1      18         2       1            1     0      1977         10   \n",
       "2      18         3       1            1     0      1985          6   \n",
       "3      18         4       1            2     0      1981          7   \n",
       "4      18         5       1            3     0      1981         10   \n",
       "\n",
       "   race_year  race_month  \n",
       "0       2008           3  \n",
       "1       2008           3  \n",
       "2       2008           3  \n",
       "3       2008           3  \n",
       "4       2008           3  "
      ]
     },
     "execution_count": 38,
     "metadata": {},
     "output_type": "execute_result"
    }
   ],
   "source": [
    "simple_model_df.head()"
   ]
  },
  {
   "cell_type": "code",
   "execution_count": 41,
   "metadata": {},
   "outputs": [
    {
     "data": {
      "text/plain": [
       "0.08696808510638297"
      ]
     },
     "execution_count": 41,
     "metadata": {},
     "output_type": "execute_result"
    }
   ],
   "source": [
    "train = simple_model_df[:int(simple_model_df.shape[0]*0.75)]\n",
    "train_Y = train['target']\n",
    "train_X = train.drop(columns=['target'])\n",
    "test = simple_model_df[int(simple_model_df.shape[0]*0.75):]\n",
    "test_Y = test['target']\n",
    "test_X = test.drop(columns=['target'])\n",
    "\n",
    "model_simple = RandomForestClassifier(n_estimators=100, max_depth=2, random_state=0)\n",
    "model_simple.fit(train_X, train_Y)  \n",
    "simple_prediction = model_simple.predict(test_X)\n",
    "mse_simple = mean_squared_error(test_Y.to_list(), simple_prediction)\n",
    "mse_simple"
   ]
  },
  {
   "cell_type": "markdown",
   "metadata": {
    "slideshow": {
     "slide_type": "slide"
    }
   },
   "source": [
    "### Can we improve by adding features?\n",
    "- How old was a pilot when taking part at race X\n",
    "- Is pilot from host country\n",
    "- Is pilot young?\n",
    "...\n",
    "\n",
    "Let's automate this questions"
   ]
  },
  {
   "cell_type": "code",
   "execution_count": 46,
   "metadata": {
    "slideshow": {
     "slide_type": "skip"
    }
   },
   "outputs": [],
   "source": [
    "# small preparation so that we do not get any target exposure\n",
    "standings_simple = standings[['driverId', 'raceId', 'target', 'driverStandingsId']]\n",
    "race_simple = races[['raceId', 'date', 'name']]"
   ]
  },
  {
   "cell_type": "code",
   "execution_count": 58,
   "metadata": {
    "slideshow": {
     "slide_type": "subslide"
    }
   },
   "outputs": [],
   "source": [
    "# Entity set\n",
    "es = ft.EntitySet(id = 'top_formula_pilot')\n",
    "# Entities\n",
    "es = es.entity_from_dataframe(entity_id=\"drivers\",\n",
    "                              dataframe=drivers,\n",
    "                              index=\"driverId\",\n",
    "                              variable_types={\"nationality\": ft.variable_types.Categorical,\n",
    "                                              \"dob\": ft.variable_types.DateOfBirth})\n",
    "es = es.entity_from_dataframe(entity_id=\"standings\",\n",
    "                              dataframe=standings_simple,\n",
    "                              index=\"driverStandingsId\",\n",
    "                              variable_types={\"raceId\": ft.variable_types.Id,\n",
    "                                              \"driverId\": ft.variable_types.Id,\n",
    "                                              \"target\": ft.variable_types.Categorical})\n",
    "es = es.entity_from_dataframe(entity_id=\"races\",\n",
    "                              dataframe=race_simple,\n",
    "                              index=\"raceId\",\n",
    "                              variable_types={\"name\": ft.variable_types.Categorical,\n",
    "                                              \"date\": ft.variable_types.Datetime})\n",
    "\n"
   ]
  },
  {
   "cell_type": "code",
   "execution_count": 59,
   "metadata": {
    "slideshow": {
     "slide_type": "subslide"
    }
   },
   "outputs": [],
   "source": [
    "# Relationship\n",
    "es = es.add_relationship(ft.Relationship(es[\"drivers\"][\"driverId\"], es[\"standings\"][\"driverId\"]))\n",
    "es = es.add_relationship(ft.Relationship(es[\"races\"][\"raceId\"], es[\"standings\"][\"raceId\"]))"
   ]
  },
  {
   "cell_type": "code",
   "execution_count": 60,
   "metadata": {
    "slideshow": {
     "slide_type": "subslide"
    }
   },
   "outputs": [],
   "source": [
    "feature_matrix, feature_defs = ft.dfs(entityset=es, \n",
    "                                      target_entity=\"standings\",\n",
    "                                      max_depth = 4)\n",
    "\n",
    "# agg_primitives=[\"sum\", \"count\", \"mean\", \"time_since_first\"],\n",
    "# trans_primitives=[\"cum_count\", \"days_since\", \"year\"]"
   ]
  },
  {
   "cell_type": "code",
   "execution_count": 61,
   "metadata": {
    "slideshow": {
     "slide_type": "subslide"
    }
   },
   "outputs": [
    {
     "data": {
      "text/plain": [
       "Index(['id', 'raceId', 'driverId', 'target', 'drivers.nationality',\n",
       "       'races.name', 'drivers.SUM(standings.id)', 'drivers.STD(standings.id)',\n",
       "       'drivers.MAX(standings.id)', 'drivers.SKEW(standings.id)',\n",
       "       'drivers.MIN(standings.id)', 'drivers.MEAN(standings.id)',\n",
       "       'drivers.COUNT(standings)', 'drivers.NUM_UNIQUE(standings.raceId)',\n",
       "       'drivers.NUM_UNIQUE(standings.target)',\n",
       "       'drivers.MODE(standings.raceId)', 'drivers.MODE(standings.target)',\n",
       "       'drivers.DAY(dob)', 'drivers.YEAR(dob)', 'drivers.MONTH(dob)',\n",
       "       'drivers.WEEKDAY(dob)', 'races.SUM(standings.id)',\n",
       "       'races.STD(standings.id)', 'races.MAX(standings.id)',\n",
       "       'races.SKEW(standings.id)', 'races.MIN(standings.id)',\n",
       "       'races.MEAN(standings.id)', 'races.COUNT(standings)',\n",
       "       'races.NUM_UNIQUE(standings.driverId)',\n",
       "       'races.NUM_UNIQUE(standings.target)', 'races.MODE(standings.driverId)',\n",
       "       'races.MODE(standings.target)', 'races.DAY(date)', 'races.YEAR(date)',\n",
       "       'races.MONTH(date)', 'races.WEEKDAY(date)'],\n",
       "      dtype='object')"
      ]
     },
     "execution_count": 61,
     "metadata": {},
     "output_type": "execute_result"
    }
   ],
   "source": [
    "feature_matrix.columns"
   ]
  },
  {
   "cell_type": "code",
   "execution_count": 62,
   "metadata": {},
   "outputs": [
    {
     "data": {
      "text/html": [
       "<div>\n",
       "<style scoped>\n",
       "    .dataframe tbody tr th:only-of-type {\n",
       "        vertical-align: middle;\n",
       "    }\n",
       "\n",
       "    .dataframe tbody tr th {\n",
       "        vertical-align: top;\n",
       "    }\n",
       "\n",
       "    .dataframe thead th {\n",
       "        text-align: right;\n",
       "    }\n",
       "</style>\n",
       "<table border=\"1\" class=\"dataframe\">\n",
       "  <thead>\n",
       "    <tr style=\"text-align: right;\">\n",
       "      <th></th>\n",
       "      <th>id</th>\n",
       "      <th>raceId</th>\n",
       "      <th>driverId</th>\n",
       "      <th>target</th>\n",
       "      <th>drivers.nationality</th>\n",
       "      <th>races.name</th>\n",
       "      <th>drivers.SUM(standings.id)</th>\n",
       "      <th>drivers.STD(standings.id)</th>\n",
       "      <th>drivers.MAX(standings.id)</th>\n",
       "      <th>drivers.SKEW(standings.id)</th>\n",
       "      <th>...</th>\n",
       "      <th>races.MEAN(standings.id)</th>\n",
       "      <th>races.COUNT(standings)</th>\n",
       "      <th>races.NUM_UNIQUE(standings.driverId)</th>\n",
       "      <th>races.NUM_UNIQUE(standings.target)</th>\n",
       "      <th>races.MODE(standings.driverId)</th>\n",
       "      <th>races.MODE(standings.target)</th>\n",
       "      <th>races.DAY(date)</th>\n",
       "      <th>races.YEAR(date)</th>\n",
       "      <th>races.MONTH(date)</th>\n",
       "      <th>races.WEEKDAY(date)</th>\n",
       "    </tr>\n",
       "    <tr>\n",
       "      <th>driverStandingsId</th>\n",
       "      <th></th>\n",
       "      <th></th>\n",
       "      <th></th>\n",
       "      <th></th>\n",
       "      <th></th>\n",
       "      <th></th>\n",
       "      <th></th>\n",
       "      <th></th>\n",
       "      <th></th>\n",
       "      <th></th>\n",
       "      <th></th>\n",
       "      <th></th>\n",
       "      <th></th>\n",
       "      <th></th>\n",
       "      <th></th>\n",
       "      <th></th>\n",
       "      <th></th>\n",
       "      <th></th>\n",
       "      <th></th>\n",
       "      <th></th>\n",
       "      <th></th>\n",
       "    </tr>\n",
       "  </thead>\n",
       "  <tbody>\n",
       "    <tr>\n",
       "      <th>0</th>\n",
       "      <td>0</td>\n",
       "      <td>18</td>\n",
       "      <td>1</td>\n",
       "      <td>1</td>\n",
       "      <td>0.0</td>\n",
       "      <td>0.0</td>\n",
       "      <td>4891778.0</td>\n",
       "      <td>11006.880130</td>\n",
       "      <td>31702.0</td>\n",
       "      <td>-1.240795</td>\n",
       "      <td>...</td>\n",
       "      <td>3.5</td>\n",
       "      <td>8.0</td>\n",
       "      <td>8.0</td>\n",
       "      <td>2.0</td>\n",
       "      <td>1.0</td>\n",
       "      <td>1.0</td>\n",
       "      <td>16.0</td>\n",
       "      <td>2008.0</td>\n",
       "      <td>3.0</td>\n",
       "      <td>6.0</td>\n",
       "    </tr>\n",
       "    <tr>\n",
       "      <th>1</th>\n",
       "      <td>1</td>\n",
       "      <td>18</td>\n",
       "      <td>2</td>\n",
       "      <td>1</td>\n",
       "      <td>1.0</td>\n",
       "      <td>0.0</td>\n",
       "      <td>1112597.0</td>\n",
       "      <td>8937.100945</td>\n",
       "      <td>28894.0</td>\n",
       "      <td>2.033658</td>\n",
       "      <td>...</td>\n",
       "      <td>3.5</td>\n",
       "      <td>8.0</td>\n",
       "      <td>8.0</td>\n",
       "      <td>2.0</td>\n",
       "      <td>1.0</td>\n",
       "      <td>1.0</td>\n",
       "      <td>16.0</td>\n",
       "      <td>2008.0</td>\n",
       "      <td>3.0</td>\n",
       "      <td>6.0</td>\n",
       "    </tr>\n",
       "    <tr>\n",
       "      <th>2</th>\n",
       "      <td>2</td>\n",
       "      <td>18</td>\n",
       "      <td>3</td>\n",
       "      <td>1</td>\n",
       "      <td>1.0</td>\n",
       "      <td>0.0</td>\n",
       "      <td>4242350.0</td>\n",
       "      <td>12851.211920</td>\n",
       "      <td>31254.0</td>\n",
       "      <td>-0.751405</td>\n",
       "      <td>...</td>\n",
       "      <td>3.5</td>\n",
       "      <td>8.0</td>\n",
       "      <td>8.0</td>\n",
       "      <td>2.0</td>\n",
       "      <td>1.0</td>\n",
       "      <td>1.0</td>\n",
       "      <td>16.0</td>\n",
       "      <td>2008.0</td>\n",
       "      <td>3.0</td>\n",
       "      <td>6.0</td>\n",
       "    </tr>\n",
       "    <tr>\n",
       "      <th>3</th>\n",
       "      <td>3</td>\n",
       "      <td>18</td>\n",
       "      <td>4</td>\n",
       "      <td>1</td>\n",
       "      <td>2.0</td>\n",
       "      <td>0.0</td>\n",
       "      <td>4971545.0</td>\n",
       "      <td>13874.816481</td>\n",
       "      <td>31714.0</td>\n",
       "      <td>-0.139155</td>\n",
       "      <td>...</td>\n",
       "      <td>3.5</td>\n",
       "      <td>8.0</td>\n",
       "      <td>8.0</td>\n",
       "      <td>2.0</td>\n",
       "      <td>1.0</td>\n",
       "      <td>1.0</td>\n",
       "      <td>16.0</td>\n",
       "      <td>2008.0</td>\n",
       "      <td>3.0</td>\n",
       "      <td>6.0</td>\n",
       "    </tr>\n",
       "    <tr>\n",
       "      <th>4</th>\n",
       "      <td>4</td>\n",
       "      <td>18</td>\n",
       "      <td>5</td>\n",
       "      <td>1</td>\n",
       "      <td>3.0</td>\n",
       "      <td>0.0</td>\n",
       "      <td>1870864.0</td>\n",
       "      <td>13211.881979</td>\n",
       "      <td>29818.0</td>\n",
       "      <td>-0.273488</td>\n",
       "      <td>...</td>\n",
       "      <td>3.5</td>\n",
       "      <td>8.0</td>\n",
       "      <td>8.0</td>\n",
       "      <td>2.0</td>\n",
       "      <td>1.0</td>\n",
       "      <td>1.0</td>\n",
       "      <td>16.0</td>\n",
       "      <td>2008.0</td>\n",
       "      <td>3.0</td>\n",
       "      <td>6.0</td>\n",
       "    </tr>\n",
       "  </tbody>\n",
       "</table>\n",
       "<p>5 rows × 36 columns</p>\n",
       "</div>"
      ],
      "text/plain": [
       "                   id  raceId  driverId  target  drivers.nationality  \\\n",
       "driverStandingsId                                                      \n",
       "0                   0      18         1       1                  0.0   \n",
       "1                   1      18         2       1                  1.0   \n",
       "2                   2      18         3       1                  1.0   \n",
       "3                   3      18         4       1                  2.0   \n",
       "4                   4      18         5       1                  3.0   \n",
       "\n",
       "                   races.name  drivers.SUM(standings.id)  \\\n",
       "driverStandingsId                                          \n",
       "0                         0.0                  4891778.0   \n",
       "1                         0.0                  1112597.0   \n",
       "2                         0.0                  4242350.0   \n",
       "3                         0.0                  4971545.0   \n",
       "4                         0.0                  1870864.0   \n",
       "\n",
       "                   drivers.STD(standings.id)  drivers.MAX(standings.id)  \\\n",
       "driverStandingsId                                                         \n",
       "0                               11006.880130                    31702.0   \n",
       "1                                8937.100945                    28894.0   \n",
       "2                               12851.211920                    31254.0   \n",
       "3                               13874.816481                    31714.0   \n",
       "4                               13211.881979                    29818.0   \n",
       "\n",
       "                   drivers.SKEW(standings.id)  ...  races.MEAN(standings.id)  \\\n",
       "driverStandingsId                              ...                             \n",
       "0                                   -1.240795  ...                       3.5   \n",
       "1                                    2.033658  ...                       3.5   \n",
       "2                                   -0.751405  ...                       3.5   \n",
       "3                                   -0.139155  ...                       3.5   \n",
       "4                                   -0.273488  ...                       3.5   \n",
       "\n",
       "                   races.COUNT(standings)  \\\n",
       "driverStandingsId                           \n",
       "0                                     8.0   \n",
       "1                                     8.0   \n",
       "2                                     8.0   \n",
       "3                                     8.0   \n",
       "4                                     8.0   \n",
       "\n",
       "                   races.NUM_UNIQUE(standings.driverId)  \\\n",
       "driverStandingsId                                         \n",
       "0                                                   8.0   \n",
       "1                                                   8.0   \n",
       "2                                                   8.0   \n",
       "3                                                   8.0   \n",
       "4                                                   8.0   \n",
       "\n",
       "                   races.NUM_UNIQUE(standings.target)  \\\n",
       "driverStandingsId                                       \n",
       "0                                                 2.0   \n",
       "1                                                 2.0   \n",
       "2                                                 2.0   \n",
       "3                                                 2.0   \n",
       "4                                                 2.0   \n",
       "\n",
       "                   races.MODE(standings.driverId)  \\\n",
       "driverStandingsId                                   \n",
       "0                                             1.0   \n",
       "1                                             1.0   \n",
       "2                                             1.0   \n",
       "3                                             1.0   \n",
       "4                                             1.0   \n",
       "\n",
       "                   races.MODE(standings.target)  races.DAY(date)  \\\n",
       "driverStandingsId                                                  \n",
       "0                                           1.0             16.0   \n",
       "1                                           1.0             16.0   \n",
       "2                                           1.0             16.0   \n",
       "3                                           1.0             16.0   \n",
       "4                                           1.0             16.0   \n",
       "\n",
       "                   races.YEAR(date)  races.MONTH(date)  races.WEEKDAY(date)  \n",
       "driverStandingsId                                                            \n",
       "0                            2008.0                3.0                  6.0  \n",
       "1                            2008.0                3.0                  6.0  \n",
       "2                            2008.0                3.0                  6.0  \n",
       "3                            2008.0                3.0                  6.0  \n",
       "4                            2008.0                3.0                  6.0  \n",
       "\n",
       "[5 rows x 36 columns]"
      ]
     },
     "execution_count": 62,
     "metadata": {},
     "output_type": "execute_result"
    }
   ],
   "source": [
    "feature_matrix.head()"
   ]
  },
  {
   "cell_type": "code",
   "execution_count": 63,
   "metadata": {
    "slideshow": {
     "slide_type": "skip"
    }
   },
   "outputs": [
    {
     "data": {
      "text/plain": [
       "RandomForestClassifier(bootstrap=True, class_weight=None, criterion='gini',\n",
       "            max_depth=2, max_features='auto', max_leaf_nodes=None,\n",
       "            min_impurity_decrease=0.0, min_impurity_split=None,\n",
       "            min_samples_leaf=1, min_samples_split=2,\n",
       "            min_weight_fraction_leaf=0.0, n_estimators=100, n_jobs=None,\n",
       "            oob_score=False, random_state=0, verbose=0, warm_start=False)"
      ]
     },
     "execution_count": 63,
     "metadata": {},
     "output_type": "execute_result"
    }
   ],
   "source": [
    "feature_matrix = feature_matrix.dropna()\n",
    "# drop some columns that make no sense or expose target\n",
    "feature_matrix.drop(columns=['id', 'drivers.SUM(standings.id)', 'drivers.STD(standings.id)',\n",
    "                             'drivers.MAX(standings.id)', 'drivers.SKEW(standings.id)',\n",
    "                             'drivers.MIN(standings.id)', 'drivers.MEAN(standings.id)',\n",
    "                             'drivers.NUM_UNIQUE(standings.target)', 'drivers.MODE(standings.target)',\n",
    "                             'races.SUM(standings.id)', 'races.STD(standings.id)', 'races.MAX(standings.id)',\n",
    "                             'races.SKEW(standings.id)', 'races.MIN(standings.id)',\n",
    "                             'races.MEAN(standings.id)', 'races.COUNT(standings)',\n",
    "                             'races.NUM_UNIQUE(standings.target)', 'races.MODE(standings.target)'\n",
    "                            ], inplace=True)\n",
    "\n",
    "train = feature_matrix[:int(feature_matrix.shape[0]*0.75)]\n",
    "train_Y = train['target']\n",
    "train_X = train.drop(columns=['target'])\n",
    "test = feature_matrix[int(feature_matrix.shape[0]*0.75):]\n",
    "test_Y = test['target']\n",
    "test_X = test.drop(columns=['target'])\n",
    "\n",
    "\n",
    "\n",
    "model = RandomForestClassifier(n_estimators=100, max_depth=2, random_state=0)\n",
    "model.fit(train_X, train_Y)  "
   ]
  },
  {
   "cell_type": "code",
   "execution_count": 65,
   "metadata": {
    "slideshow": {
     "slide_type": "subslide"
    }
   },
   "outputs": [
    {
     "data": {
      "text/plain": [
       "0.0867129135538954"
      ]
     },
     "execution_count": 65,
     "metadata": {},
     "output_type": "execute_result"
    }
   ],
   "source": [
    "complex_predictions = model.predict(test_X)\n",
    "mse_extended = mean_squared_error(test_Y.to_list(), complex_predictions)\n",
    "mse_extended"
   ]
  },
  {
   "cell_type": "code",
   "execution_count": null,
   "metadata": {},
   "outputs": [],
   "source": []
  }
 ],
 "metadata": {
  "celltoolbar": "Slideshow",
  "kernelspec": {
   "display_name": "Python 3",
   "language": "python",
   "name": "python3"
  },
  "language_info": {
   "codemirror_mode": {
    "name": "ipython",
    "version": 3
   },
   "file_extension": ".py",
   "mimetype": "text/x-python",
   "name": "python",
   "nbconvert_exporter": "python",
   "pygments_lexer": "ipython3",
   "version": "3.7.3"
  }
 },
 "nbformat": 4,
 "nbformat_minor": 2
}
